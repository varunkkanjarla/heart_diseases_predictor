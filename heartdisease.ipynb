{
 "cells": [
  {
   "cell_type": "markdown",
   "id": "0cdbc397",
   "metadata": {},
   "source": [
    "# importing the libraries"
   ]
  },
  {
   "cell_type": "code",
   "execution_count": 66,
   "id": "80f47cab",
   "metadata": {},
   "outputs": [],
   "source": [
    "import numpy as np\n",
    "import pandas as pd\n",
    "from sklearn.model_selection import train_test_split\n",
    "from sklearn.linear_model import LogisticRegression\n",
    "from sklearn.metrics import accuracy_score"
   ]
  },
  {
   "cell_type": "markdown",
   "id": "ee34ea9e",
   "metadata": {},
   "source": [
    "# taking the dataset"
   ]
  },
  {
   "cell_type": "code",
   "execution_count": 67,
   "id": "79a659bf",
   "metadata": {},
   "outputs": [],
   "source": [
    "heart_data = pd.read_csv('heart_disease_data.csv')"
   ]
  },
  {
   "cell_type": "markdown",
   "id": "e0b1fd1a",
   "metadata": {},
   "source": [
    "# differentiate the x, y in dataset"
   ]
  },
  {
   "cell_type": "code",
   "execution_count": 68,
   "id": "20fead48",
   "metadata": {},
   "outputs": [],
   "source": [
    "x = heart_data.drop(columns='target', axis=1)\n",
    "y = heart_data['target']"
   ]
  },
  {
   "cell_type": "markdown",
   "id": "454d22db",
   "metadata": {},
   "source": [
    "# dividing the dataset into training & testing dataset"
   ]
  },
  {
   "cell_type": "code",
   "execution_count": 69,
   "id": "a9764d39",
   "metadata": {},
   "outputs": [],
   "source": [
    "x_train, x_test, y_train, y_test = train_test_split(x, y, test_size=0.2, stratify=y, random_state=2)"
   ]
  },
  {
   "cell_type": "markdown",
   "id": "578c8e7c",
   "metadata": {},
   "source": [
    "# creating the model using logistic regresion"
   ]
  },
  {
   "cell_type": "code",
   "execution_count": 70,
   "id": "4143f59d",
   "metadata": {},
   "outputs": [],
   "source": [
    "model = LogisticRegression()"
   ]
  },
  {
   "cell_type": "code",
   "execution_count": 71,
   "id": "02f1255e",
   "metadata": {},
   "outputs": [
    {
     "name": "stderr",
     "output_type": "stream",
     "text": [
      "C:\\Users\\varun\\anaconda3\\lib\\site-packages\\sklearn\\linear_model\\_logistic.py:814: ConvergenceWarning: lbfgs failed to converge (status=1):\n",
      "STOP: TOTAL NO. of ITERATIONS REACHED LIMIT.\n",
      "\n",
      "Increase the number of iterations (max_iter) or scale the data as shown in:\n",
      "    https://scikit-learn.org/stable/modules/preprocessing.html\n",
      "Please also refer to the documentation for alternative solver options:\n",
      "    https://scikit-learn.org/stable/modules/linear_model.html#logistic-regression\n",
      "  n_iter_i = _check_optimize_result(\n"
     ]
    },
    {
     "data": {
      "text/plain": [
       "LogisticRegression()"
      ]
     },
     "execution_count": 71,
     "metadata": {},
     "output_type": "execute_result"
    }
   ],
   "source": [
    "model.fit(x_train, y_train)"
   ]
  },
  {
   "cell_type": "markdown",
   "id": "340ad537",
   "metadata": {},
   "source": [
    "# determine the accuracy of the model"
   ]
  },
  {
   "cell_type": "code",
   "execution_count": 72,
   "id": "5274d783",
   "metadata": {},
   "outputs": [
    {
     "name": "stdout",
     "output_type": "stream",
     "text": [
      "0.8512396694214877\n"
     ]
    }
   ],
   "source": [
    "##accuracy\n",
    "\n",
    "x_train_prediction = model.predict(x_train)\n",
    "training_accuracy = accuracy_score(x_train_prediction, y_train)\n",
    "print(training_accuracy)"
   ]
  },
  {
   "cell_type": "markdown",
   "id": "9fda38be",
   "metadata": {},
   "source": [
    "# predicting from new inputs"
   ]
  },
  {
   "cell_type": "code",
   "execution_count": 73,
   "id": "803a9b51",
   "metadata": {},
   "outputs": [
    {
     "name": "stdout",
     "output_type": "stream",
     "text": [
      "the patient is suffering from hear disease\n"
     ]
    },
    {
     "name": "stderr",
     "output_type": "stream",
     "text": [
      "C:\\Users\\varun\\anaconda3\\lib\\site-packages\\sklearn\\base.py:450: UserWarning: X does not have valid feature names, but LogisticRegression was fitted with feature names\n",
      "  warnings.warn(\n"
     ]
    }
   ],
   "source": [
    "#inputs \n",
    "\n",
    "input_data = (41,0,1,130,204,0,172,0,1,4,2,0,2)\n",
    "\n",
    "input_datanumpy = np.asarray(input_data)\n",
    "input_datareshaped = input_datanumpy.reshape(1,-1)\n",
    "\n",
    "prediction = model.predict(input_datareshaped)\n",
    "\n",
    "if(prediction == 1):\n",
    "    print(\"the patient is suffering from hear disease\");\n",
    "else:\n",
    "    print(\"patient does not have any heart diseases\");"
   ]
  }
 ],
 "metadata": {
  "kernelspec": {
   "display_name": "Python 3 (ipykernel)",
   "language": "python",
   "name": "python3"
  },
  "language_info": {
   "codemirror_mode": {
    "name": "ipython",
    "version": 3
   },
   "file_extension": ".py",
   "mimetype": "text/x-python",
   "name": "python",
   "nbconvert_exporter": "python",
   "pygments_lexer": "ipython3",
   "version": "3.9.13"
  }
 },
 "nbformat": 4,
 "nbformat_minor": 5
}
